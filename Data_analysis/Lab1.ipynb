{
 "cells": [
  {
   "cell_type": "code",
   "execution_count": 2,
   "metadata": {
    "collapsed": true,
    "ExecuteTime": {
     "end_time": "2023-11-08T06:00:54.448392500Z",
     "start_time": "2023-11-08T06:00:53.703224800Z"
    }
   },
   "outputs": [],
   "source": [
    "import numpy as np\n",
    "import matplotlib.pyplot as plt\n",
    "import pandas as pd"
   ]
  },
  {
   "cell_type": "code",
   "execution_count": null,
   "outputs": [],
   "source": [
    "T = np.arange(323, 403, 10)\n",
    "inv_T = 1 / T\n",
    "Ir = np.array([0.00323*10**(-6), 0.00708*10**(-6), 0.01669*10**(-6), 0.0325*10**(-6), 0.06984*10**(-6), 0.1588*10**(-6), 0.3189*10**(-6), 0.6538*10**(-6)])\n",
    "In_Ir = np.log(Ir)\n",
    "\n",
    "# 绘制图表\n",
    "plt.plot(inv_T, In_Ir, marker='o', linestyle='-', color='b', label='Data Points')\n",
    "plt.title('In(Ir) vs. 1/T')\n",
    "plt.xlabel('1/T(k^(-1))')\n",
    "plt.ylabel('In(Ir)')\n",
    "plt.legend()\n",
    "for xt, yt in zip(inv_T,In_Ir):\n",
    "    plt.text(xt, yt, f'({xt:.4}, {yt:.2})', ha='center', va='bottom')\n",
    "# plt.savefig(r'D:\\Desktop\\23秋\\B39SE\\LAB1')\n",
    "plt.show()"
   ],
   "metadata": {
    "collapsed": false
   }
  },
  {
   "cell_type": "code",
   "execution_count": 12,
   "outputs": [
    {
     "name": "stdout",
     "output_type": "stream",
     "text": [
      "slope: -9631.98223488407\n"
     ]
    }
   ],
   "source": [
    "slope, intercept = np.polyfit(inv_T, np.log(Ir), 1)\n",
    "print(\"slope:\", slope)"
   ],
   "metadata": {
    "collapsed": false,
    "ExecuteTime": {
     "end_time": "2023-11-08T06:39:17.986497700Z",
     "start_time": "2023-11-08T06:39:17.975568200Z"
    }
   }
  },
  {
   "cell_type": "code",
   "execution_count": 7,
   "outputs": [
    {
     "name": "stdout",
     "output_type": "stream",
     "text": [
      "   T(K)         Ir(A)\n",
      "0   323  3.230000e-09\n",
      "1   333  7.080000e-09\n",
      "2   343  1.669000e-08\n",
      "3   353  3.250000e-08\n",
      "4   363  6.984000e-08\n",
      "5   373  1.588000e-07\n",
      "6   383  3.189000e-07\n",
      "7   393  6.538000e-07\n"
     ]
    }
   ],
   "source": [
    "T = [323, 333, 343, 353, 363, 373, 383, 393]\n",
    "Ir = [0.00323*10**(-6), 0.00708*10**(-6), 0.01669*10**(-6), 0.0325*10**(-6), 0.06984*10**(-6), 0.1588*10**(-6), 0.3189*10**(-6), 0.6538*10**(-6)]\n",
    "\n",
    "# 创建一个包含T和Ir的DataFrame\n",
    "df = pd.DataFrame({'T(K)': T, 'Ir(A)': Ir})\n",
    "# 打印表格\n",
    "print(df)"
   ],
   "metadata": {
    "collapsed": false,
    "ExecuteTime": {
     "end_time": "2023-11-08T06:09:19.202922400Z",
     "start_time": "2023-11-08T06:09:19.194921100Z"
    }
   }
  },
  {
   "cell_type": "code",
   "execution_count": 10,
   "outputs": [
    {
     "name": "stdout",
     "output_type": "stream",
     "text": [
      "   1/T(1/k)         Ir(A)      ln_Ir\n",
      "0  0.003096  3.230000e-09 -19.550784\n",
      "1  0.003003  7.080000e-09 -18.765992\n",
      "2  0.002915  1.669000e-08 -17.908456\n",
      "3  0.002833  3.250000e-08 -17.242026\n",
      "4  0.002755  6.984000e-08 -16.477059\n",
      "5  0.002681  1.588000e-07 -15.655620\n",
      "6  0.002611  3.189000e-07 -14.958388\n",
      "7  0.002545  6.538000e-07 -14.240464\n"
     ]
    }
   ],
   "source": [
    "inv_T = [1/t for t in T]\n",
    "Ir = [0.00323*10**(-6), 0.00708*10**(-6), 0.01669*10**(-6), 0.0325*10**(-6), 0.06984*10**(-6), 0.1588*10**(-6), 0.3189*10**(-6), 0.6538*10**(-6)]\n",
    "\n",
    "# 创建一个包含1/T和Ir的DataFrame\n",
    "df = pd.DataFrame({'1/T(1/k)': inv_T, 'Ir(A)': Ir})\n",
    "\n",
    "# 计算Ir列的自然对数\n",
    "df['ln_Ir'] = np.log(df['Ir(A)'])\n",
    "\n",
    "# 打印结果\n",
    "print(df)"
   ],
   "metadata": {
    "collapsed": false,
    "ExecuteTime": {
     "end_time": "2023-11-08T06:16:33.946767900Z",
     "start_time": "2023-11-08T06:16:33.929764900Z"
    }
   }
  },
  {
   "cell_type": "code",
   "execution_count": 19,
   "outputs": [
    {
     "name": "stdout",
     "output_type": "stream",
     "text": [
      "2.5113955606636005e-19\n",
      "1.5696222254147505\n"
     ]
    }
   ],
   "source": [
    "k = 1.380649e-23  # 玻尔兹曼常数\n",
    "T = 358\n",
    "eV = 1.6e-19\n",
    "Eg0=-2*k*(-9631.982) - 3*k*T\n",
    "Eg0_eV = Eg0/eV\n",
    "print(Eg0)\n",
    "print(Eg0_eV)"
   ],
   "metadata": {
    "collapsed": false,
    "ExecuteTime": {
     "end_time": "2023-11-08T07:45:59.465647200Z",
     "start_time": "2023-11-08T07:45:59.456255700Z"
    }
   }
  },
  {
   "cell_type": "code",
   "execution_count": 20,
   "outputs": [
    {
     "name": "stdout",
     "output_type": "stream",
     "text": [
      "0.35960000000000014\n",
      "0.2971900826446282\n"
     ]
    }
   ],
   "source": [
    "x = 1.5696-1.21\n",
    "y = x/1.21\n",
    "print(x)\n",
    "print(y)"
   ],
   "metadata": {
    "collapsed": false,
    "ExecuteTime": {
     "end_time": "2023-11-08T07:46:24.888772600Z",
     "start_time": "2023-11-08T07:46:24.878812600Z"
    }
   }
  }
 ],
 "metadata": {
  "kernelspec": {
   "display_name": "Python 3",
   "language": "python",
   "name": "python3"
  },
  "language_info": {
   "codemirror_mode": {
    "name": "ipython",
    "version": 2
   },
   "file_extension": ".py",
   "mimetype": "text/x-python",
   "name": "python",
   "nbconvert_exporter": "python",
   "pygments_lexer": "ipython2",
   "version": "2.7.6"
  }
 },
 "nbformat": 4,
 "nbformat_minor": 0
}
